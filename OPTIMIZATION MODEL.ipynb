{
 "cells": [
  {
   "cell_type": "markdown",
   "id": "b3490b3b-f7e7-4a1e-8329-fd0e0f855d5e",
   "metadata": {},
   "source": [
    "<span style=\"font-weight:bold; color:#4CAF50; font-size:28px;\">\n",
    "TASK 4 OPTIMIZATION MODEL</span>\n",
    "\n",
    "<div style=\"font-family: Arial, sans-serif; text-align: left; background-color: #f2f2f2; padding: 10px; border-radius: 5px;\">\n",
    "    <span style=\"font-weight: bold; color: #4CAF50; font-size: 20px;\">Author: Bisma yb</span><br>\n",
    "    <span style=\"font-weight: bold; color: #FF9800; font-size: 18px;\">Domain:Data Science</span><br>\n",
    "</div>"
   ]
  },
  {
   "cell_type": "code",
   "execution_count": 3,
   "id": "a23df0fa-afa3-48a0-8b23-f2b93a3513c1",
   "metadata": {},
   "outputs": [
    {
     "name": "stdout",
     "output_type": "stream",
     "text": [
      "Collecting pulp\n",
      "  Downloading PuLP-2.9.0-py3-none-any.whl.metadata (5.4 kB)\n",
      "Downloading PuLP-2.9.0-py3-none-any.whl (17.7 MB)\n",
      "   ---------------------------------------- 0.0/17.7 MB ? eta -:--:--\n",
      "   ---------------------------------------- 0.0/17.7 MB ? eta -:--:--\n",
      "   -- ------------------------------------- 1.0/17.7 MB 4.6 MB/s eta 0:00:04\n",
      "   ------- -------------------------------- 3.4/17.7 MB 8.1 MB/s eta 0:00:02\n",
      "   ------------- -------------------------- 6.0/17.7 MB 9.7 MB/s eta 0:00:02\n",
      "   ------------------- -------------------- 8.7/17.7 MB 10.7 MB/s eta 0:00:01\n",
      "   -------------------------- ------------- 11.5/17.7 MB 11.5 MB/s eta 0:00:01\n",
      "   -------------------------------- ------- 14.2/17.7 MB 11.7 MB/s eta 0:00:01\n",
      "   ------------------------------------- -- 16.8/17.7 MB 11.7 MB/s eta 0:00:01\n",
      "   ---------------------------------------- 17.7/17.7 MB 11.0 MB/s eta 0:00:00\n",
      "Installing collected packages: pulp\n",
      "Successfully installed pulp-2.9.0\n",
      "Note: you may need to restart the kernel to use updated packages.\n"
     ]
    },
    {
     "name": "stderr",
     "output_type": "stream",
     "text": [
      "\n",
      "[notice] A new release of pip is available: 24.3.1 -> 25.0.1\n",
      "[notice] To update, run: python.exe -m pip install --upgrade pip\n"
     ]
    }
   ],
   "source": [
    "pip install pulp\n"
   ]
  },
  {
   "cell_type": "code",
   "execution_count": 4,
   "id": "3df0c9ad-5b69-4078-822b-4453dad678be",
   "metadata": {},
   "outputs": [
    {
     "name": "stdout",
     "output_type": "stream",
     "text": [
      "Status: Infeasible\n",
      "Vehicle 0 travels from 0 to 5\n",
      "Vehicle 0 travels from 1 to 0\n",
      "Vehicle 0 travels from 2 to 4\n",
      "Vehicle 1 travels from 0 to 1\n",
      "Vehicle 1 travels from 1 to 0\n",
      "Vehicle 1 travels from 4 to 2\n",
      "Total Distance: 125.0\n"
     ]
    }
   ],
   "source": [
    "import pulp\n",
    "import numpy as np\n",
    "import pandas as pd\n",
    "\n",
    "# Problem Setup: Vehicle Routing Problem (VRP)\n",
    "# Define locations (including depot)\n",
    "n_locations = 6  # Example: 5 customer locations + 1 depot\n",
    "vehicles = 2  # Number of available vehicles\n",
    "vehicle_capacity = 15  # Capacity constraint\n",
    "\n",
    "# Distance matrix (symmetric, depot at index 0)\n",
    "distance_matrix = np.array([\n",
    "    [0, 10, 15, 20, 25, 30],\n",
    "    [10, 0, 35, 25, 30, 40],\n",
    "    [15, 35, 0, 30, 20, 50],\n",
    "    [20, 25, 30, 0, 45, 35],\n",
    "    [25, 30, 20, 45, 0, 55],\n",
    "    [30, 40, 50, 35, 55, 0]\n",
    "])\n",
    "\n",
    "# Demand per location (excluding depot)\n",
    "demands = [0, 5, 10, 8, 7, 6]\n",
    "\n",
    "# Define the optimization model\n",
    "model = pulp.LpProblem(\"Vehicle_Routing_Problem\", pulp.LpMinimize)\n",
    "\n",
    "# Decision Variables: x[i][j][v] -> 1 if vehicle v travels from i to j\n",
    "x = pulp.LpVariable.dicts(\"x\", ((i, j, v) for i in range(n_locations) for j in range(n_locations) for v in range(vehicles)), cat='Binary')\n",
    "\n",
    "# Objective Function: Minimize total travel distance\n",
    "model += pulp.lpSum(distance_matrix[i][j] * x[i, j, v] for i in range(n_locations) for j in range(n_locations) for v in range(vehicles))\n",
    "\n",
    "# Constraints\n",
    "# 1. Each customer is visited exactly once\n",
    "for j in range(1, n_locations):\n",
    "    model += pulp.lpSum(x[i, j, v] for i in range(n_locations) for v in range(vehicles) if i != j) == 1\n",
    "\n",
    "# 2. Vehicle capacity constraint\n",
    "for v in range(vehicles):\n",
    "    model += pulp.lpSum(demands[j] * x[i, j, v] for i in range(n_locations) for j in range(1, n_locations) if i != j) <= vehicle_capacity\n",
    "\n",
    "# 3. Vehicles must leave and return to the depot\n",
    "for v in range(vehicles):\n",
    "    model += pulp.lpSum(x[0, j, v] for j in range(1, n_locations)) == 1  # Start at depot\n",
    "    model += pulp.lpSum(x[i, 0, v] for i in range(1, n_locations)) == 1  # Return to depot\n",
    "\n",
    "# Solve the model\n",
    "model.solve()\n",
    "\n",
    "# Print results\n",
    "print(\"Status:\", pulp.LpStatus[model.status])\n",
    "for v in range(vehicles):\n",
    "    for i in range(n_locations):\n",
    "        for j in range(n_locations):\n",
    "            if pulp.value(x[i, j, v]) == 1:\n",
    "                print(f\"Vehicle {v} travels from {i} to {j}\")\n",
    "\n",
    "# Total distance\n",
    "print(\"Total Distance:\", pulp.value(model.objective))\n"
   ]
  },
  {
   "cell_type": "code",
   "execution_count": null,
   "id": "513d180a-a44a-4956-8779-3d7718e059b9",
   "metadata": {},
   "outputs": [],
   "source": []
  },
  {
   "cell_type": "code",
   "execution_count": null,
   "id": "cf62738d-9996-4456-ad60-81d440262728",
   "metadata": {},
   "outputs": [],
   "source": []
  },
  {
   "cell_type": "code",
   "execution_count": null,
   "id": "8cc9c639-3ceb-428c-9d37-0b7edd96c6d3",
   "metadata": {},
   "outputs": [],
   "source": []
  },
  {
   "cell_type": "code",
   "execution_count": null,
   "id": "b6fc4076-9a33-4d7c-a108-3cadd184ed76",
   "metadata": {},
   "outputs": [],
   "source": []
  },
  {
   "cell_type": "code",
   "execution_count": null,
   "id": "9c8a90fe-8234-4478-af92-080608eccef0",
   "metadata": {},
   "outputs": [],
   "source": []
  },
  {
   "cell_type": "code",
   "execution_count": null,
   "id": "f942fafe-8774-44b2-b432-171401b58bfb",
   "metadata": {},
   "outputs": [],
   "source": []
  },
  {
   "cell_type": "code",
   "execution_count": null,
   "id": "6eea779f-f798-44f0-acf3-7e0d8c1fee8f",
   "metadata": {},
   "outputs": [],
   "source": []
  },
  {
   "cell_type": "code",
   "execution_count": null,
   "id": "747452c9-ffa6-4794-a0ab-e498c096df5e",
   "metadata": {},
   "outputs": [],
   "source": []
  }
 ],
 "metadata": {
  "kernelspec": {
   "display_name": "Python 3 (ipykernel)",
   "language": "python",
   "name": "python3"
  },
  "language_info": {
   "codemirror_mode": {
    "name": "ipython",
    "version": 3
   },
   "file_extension": ".py",
   "mimetype": "text/x-python",
   "name": "python",
   "nbconvert_exporter": "python",
   "pygments_lexer": "ipython3",
   "version": "3.12.4"
  }
 },
 "nbformat": 4,
 "nbformat_minor": 5
}
